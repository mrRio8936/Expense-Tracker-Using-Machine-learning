{
 "cells": [
  {
   "cell_type": "code",
   "execution_count": 31,
   "id": "964e47ea-8cc1-454b-ad99-cf0dc689399b",
   "metadata": {},
   "outputs": [
    {
     "name": "stdout",
     "output_type": "stream",
     "text": [
      "                                 date  predicted_expense\n",
      "2024-10-17 2024-10-29 12:56:58.409822         234.662834\n",
      "2024-10-18 2024-10-30 12:56:58.409822         253.368982\n",
      "2024-10-19 2024-10-31 12:56:58.409822         193.071671\n",
      "2024-10-20 2024-11-01 12:56:58.409822         257.691990\n",
      "2024-10-21 2024-11-02 12:56:58.409822         198.784886\n",
      "2024-10-22 2024-11-03 12:56:58.409822         250.002354\n",
      "2024-10-23 2024-11-04 12:56:58.409822         206.170469\n",
      "2024-10-24 2024-11-05 12:56:58.409822         243.474905\n",
      "2024-10-25 2024-11-06 12:56:58.409822         211.787984\n",
      "2024-10-26 2024-11-07 12:56:58.409822         238.684541\n",
      "2024-10-27 2024-11-08 12:56:58.409822         215.859830\n",
      "2024-10-28 2024-11-09 12:56:58.409822         235.227408\n",
      "2024-10-29 2024-11-10 12:56:58.409822         218.793851\n",
      "2024-10-30 2024-11-11 12:56:58.409822         232.737709\n",
      "2024-10-31 2024-11-12 12:56:58.409822         220.906406\n",
      "2024-11-01 2024-11-13 12:56:58.409822         230.945200\n",
      "2024-11-02 2024-11-14 12:56:58.409822         222.427344\n",
      "2024-11-03 2024-11-15 12:56:58.409822         229.654692\n",
      "2024-11-04 2024-11-16 12:56:58.409822         223.522333\n",
      "2024-11-05 2024-11-17 12:56:58.409822         228.725601\n",
      "2024-11-06 2024-11-18 12:56:58.409822         224.310661\n",
      "2024-11-07 2024-11-19 12:56:58.409822         228.056710\n",
      "2024-11-08 2024-11-20 12:56:58.409822         224.878211\n",
      "2024-11-09 2024-11-21 12:56:58.409822         227.575147\n",
      "2024-11-10 2024-11-22 12:56:58.409822         225.286813\n",
      "2024-11-11 2024-11-23 12:56:58.409822         227.228450\n",
      "2024-11-12 2024-11-24 12:56:58.409822         225.580984\n",
      "2024-11-13 2024-11-25 12:56:58.409822         226.978849\n",
      "2024-11-14 2024-11-26 12:56:58.409822         225.792769\n",
      "2024-11-15 2024-11-27 12:56:58.409822         226.799150\n"
     ]
    }
   ],
   "source": [
    "import pandas as pd\n",
    "import joblib\n",
    "from datetime import timedelta\n",
    "\n",
    "# Load your trained ARIMA model\n",
    "model = joblib.load('expensePrediction.pkl')\n",
    "\n",
    "# Forecasting function\n",
    "def forecast_expenses(steps=30):\n",
    "    # Generate forecast for the next 'steps' days\n",
    "    forecast = model.forecast(steps=steps)\n",
    "    \n",
    "    # Create a DataFrame for forecasted values\n",
    "    forecast_dates = pd.date_range(start=pd.to_datetime(\"now\"), periods=steps, freq='D')\n",
    "    forecast_df = pd.DataFrame({'date': forecast_dates, 'predicted_expense': forecast})\n",
    "\n",
    "    return forecast_df\n",
    "\n",
    "# Example usage to get future expenses\n",
    "forecasted_expenses = forecast_expenses(steps=30)\n",
    "print(forecasted_expenses)\n"
   ]
  },
  {
   "cell_type": "markdown",
   "id": "b6dd0c5e-967b-43be-bbf4-3b4debfbb8ca",
   "metadata": {},
   "source": [
    "## Code to Predict the future monthly expenses and Total Them"
   ]
  },
  {
   "cell_type": "code",
   "execution_count": 43,
   "id": "515f9911-5a13-481d-9d5c-0bbca38b9c6c",
   "metadata": {},
   "outputs": [
    {
     "name": "stdout",
     "output_type": "stream",
     "text": [
      "Forecasted Expenses for the Next 30 Days:\n",
      "                                 date  predicted_expense\n",
      "2024-10-17 2024-10-29 13:28:43.576462             234.66\n",
      "2024-10-18 2024-10-30 13:28:43.576462             253.37\n",
      "2024-10-19 2024-10-31 13:28:43.576462             193.07\n",
      "2024-10-20 2024-11-01 13:28:43.576462             257.69\n",
      "2024-10-21 2024-11-02 13:28:43.576462             198.78\n",
      "2024-10-22 2024-11-03 13:28:43.576462             250.00\n",
      "2024-10-23 2024-11-04 13:28:43.576462             206.17\n",
      "2024-10-24 2024-11-05 13:28:43.576462             243.47\n",
      "2024-10-25 2024-11-06 13:28:43.576462             211.79\n",
      "2024-10-26 2024-11-07 13:28:43.576462             238.68\n",
      "2024-10-27 2024-11-08 13:28:43.576462             215.86\n",
      "2024-10-28 2024-11-09 13:28:43.576462             235.23\n",
      "2024-10-29 2024-11-10 13:28:43.576462             218.79\n",
      "2024-10-30 2024-11-11 13:28:43.576462             232.74\n",
      "2024-10-31 2024-11-12 13:28:43.576462             220.91\n",
      "2024-11-01 2024-11-13 13:28:43.576462             230.95\n",
      "2024-11-02 2024-11-14 13:28:43.576462             222.43\n",
      "2024-11-03 2024-11-15 13:28:43.576462             229.65\n",
      "2024-11-04 2024-11-16 13:28:43.576462             223.52\n",
      "2024-11-05 2024-11-17 13:28:43.576462             228.73\n",
      "2024-11-06 2024-11-18 13:28:43.576462             224.31\n",
      "2024-11-07 2024-11-19 13:28:43.576462             228.06\n",
      "2024-11-08 2024-11-20 13:28:43.576462             224.88\n",
      "2024-11-09 2024-11-21 13:28:43.576462             227.58\n",
      "2024-11-10 2024-11-22 13:28:43.576462             225.29\n",
      "2024-11-11 2024-11-23 13:28:43.576462             227.23\n",
      "2024-11-12 2024-11-24 13:28:43.576462             225.58\n",
      "2024-11-13 2024-11-25 13:28:43.576462             226.98\n",
      "2024-11-14 2024-11-26 13:28:43.576462             225.79\n",
      "2024-11-15 2024-11-27 13:28:43.576462             226.80\n",
      "\n",
      "Total Predicted Expenses for the Next 30 Days: $6808.99\n"
     ]
    }
   ],
   "source": [
    "import pandas as pd\n",
    "import joblib\n",
    "from datetime import datetime, timedelta\n",
    "\n",
    "# Load your trained ARIMA model\n",
    "model = joblib.load('expensePrediction.pkl')\n",
    "\n",
    "# Forecasting function\n",
    "def forecast_expenses(steps=30):\n",
    "    # Generate forecast for the next 'steps' days\n",
    "    forecast = model.forecast(steps=steps)\n",
    "    \n",
    "    # Create a DataFrame for forecasted values\n",
    "    forecast_dates = pd.date_range(start=pd.to_datetime(\"now\"), periods=steps, freq='D')\n",
    "    forecast_df = pd.DataFrame({'date': forecast_dates, 'predicted_expense': forecast})\n",
    "\n",
    "    return forecast_df\n",
    "\n",
    "# Get the forecasted expenses\n",
    "forecasted_expenses = forecast_expenses(steps=30)\n",
    "\n",
    "# Round predicted expenses to 2 decimal places\n",
    "forecasted_expenses['predicted_expense'] = forecasted_expenses['predicted_expense'].round(2)\n",
    "\n",
    "# Calculate total predicted expenses and round to 2 decimal places\n",
    "total_predicted_expense = round(forecasted_expenses['predicted_expense'].sum(), 2)\n",
    "\n",
    "# Print the forecasted expenses and total\n",
    "print(\"Forecasted Expenses for the Next 30 Days:\")\n",
    "print(forecasted_expenses)\n",
    "print(\"\\nTotal Predicted Expenses for the Next 30 Days: ${:.2f}\".format(total_predicted_expense))\n"
   ]
  },
  {
   "cell_type": "code",
   "execution_count": null,
   "id": "3336218c-714c-4996-bf13-05b50e0d1fb2",
   "metadata": {},
   "outputs": [],
   "source": []
  }
 ],
 "metadata": {
  "kernelspec": {
   "display_name": "Python 3 (ipykernel)",
   "language": "python",
   "name": "python3"
  },
  "language_info": {
   "codemirror_mode": {
    "name": "ipython",
    "version": 3
   },
   "file_extension": ".py",
   "mimetype": "text/x-python",
   "name": "python",
   "nbconvert_exporter": "python",
   "pygments_lexer": "ipython3",
   "version": "3.12.4"
  }
 },
 "nbformat": 4,
 "nbformat_minor": 5
}
