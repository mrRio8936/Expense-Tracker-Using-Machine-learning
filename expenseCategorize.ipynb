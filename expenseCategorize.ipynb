{
 "cells": [
  {
   "cell_type": "code",
   "execution_count": 9,
   "id": "fed621e3-0112-4389-b7b9-baf4f124d57b",
   "metadata": {},
   "outputs": [
    {
     "name": "stderr",
     "output_type": "stream",
     "text": [
      "C:\\Users\\gaura\\AppData\\Local\\Temp\\ipykernel_472\\4289881225.py:22: SettingWithCopyWarning: \n",
      "A value is trying to be set on a copy of a slice from a DataFrame.\n",
      "Try using .loc[row_indexer,col_indexer] = value instead\n",
      "\n",
      "See the caveats in the documentation: https://pandas.pydata.org/pandas-docs/stable/user_guide/indexing.html#returning-a-view-versus-a-copy\n",
      "  X['date'] = pd.to_datetime(X['date'])\n"
     ]
    },
    {
     "name": "stdout",
     "output_type": "stream",
     "text": [
      "Accuracy: 1.0\n",
      "Classification Report:\n",
      "                 precision    recall  f1-score   support\n",
      "\n",
      " Entertainment       1.00      1.00      1.00         3\n",
      "          Food       1.00      1.00      1.00         7\n",
      "    Healthcare       1.00      1.00      1.00         5\n",
      "      Shopping       1.00      1.00      1.00         3\n",
      "Transportation       1.00      1.00      1.00         9\n",
      "     Utilities       1.00      1.00      1.00         5\n",
      "\n",
      "      accuracy                           1.00        32\n",
      "     macro avg       1.00      1.00      1.00        32\n",
      "  weighted avg       1.00      1.00      1.00        32\n",
      "\n"
     ]
    },
    {
     "data": {
      "text/plain": [
       "['expense_categorization_model.pkl']"
      ]
     },
     "execution_count": 9,
     "metadata": {},
     "output_type": "execute_result"
    }
   ],
   "source": [
    "import pandas as pd\n",
    "from sklearn.model_selection import train_test_split\n",
    "from sklearn.feature_extraction.text import TfidfVectorizer\n",
    "from sklearn.preprocessing import StandardScaler, OneHotEncoder\n",
    "from sklearn.pipeline import Pipeline\n",
    "from sklearn.ensemble import RandomForestClassifier\n",
    "from sklearn.metrics import classification_report, accuracy_score\n",
    "from sklearn.compose import ColumnTransformer\n",
    "from sklearn.impute import SimpleImputer\n",
    "from sklearn.linear_model import LogisticRegression\n",
    "\n",
    "# Load your dataset\n",
    "data = pd.read_csv('expenseData.csv')\n",
    "\n",
    "# Separate features and target\n",
    "X = data[['date', 'description', 'amount']]\n",
    "y = data['category']\n",
    "\n",
    "# Step 1: Feature Engineering\n",
    "\n",
    "# Extract day of the week and month from 'date'\n",
    "X['date'] = pd.to_datetime(X['date'])\n",
    "X['day_of_week'] = X['date'].dt.dayofweek\n",
    "X['month'] = X['date'].dt.month\n",
    "X = X.drop(columns=['date'])  # Drop original date column after extracting features\n",
    "\n",
    "# Step 2: Preprocessing Pipelines\n",
    "\n",
    "# Text processing pipeline for 'description'\n",
    "text_pipeline = Pipeline([\n",
    "    ('tfidf', TfidfVectorizer(max_features=1000))  # Adjust max_features as needed\n",
    "])\n",
    "\n",
    "# Numerical processing pipeline for 'amount'\n",
    "num_pipeline = Pipeline([\n",
    "    ('scaler', StandardScaler())\n",
    "])\n",
    "\n",
    "# Categorical processing pipeline for day_of_week and month\n",
    "cat_pipeline = Pipeline([\n",
    "    ('onehot', OneHotEncoder(handle_unknown='ignore'))\n",
    "])\n",
    "\n",
    "# Combine all the preprocessing steps\n",
    "preprocessor = ColumnTransformer([\n",
    "    ('text', text_pipeline, 'description'),\n",
    "    ('num', num_pipeline, ['amount']),\n",
    "    ('cat', cat_pipeline, ['day_of_week', 'month'])\n",
    "])\n",
    "\n",
    "# Step 3: Create the final pipeline with classifier\n",
    "\n",
    "# Try with RandomForestClassifier\n",
    "model = Pipeline([\n",
    "    ('preprocessor', preprocessor),\n",
    "    ('classifier', RandomForestClassifier(random_state=0))\n",
    "])\n",
    "\n",
    "# Step 4: Train-Test Split and Model Training\n",
    "X_train, X_test, y_train, y_test = train_test_split(X, y, test_size=0.2, random_state=0)\n",
    "\n",
    "# Fit the model\n",
    "model.fit(X_train, y_train)\n",
    "\n",
    "# Step 5: Evaluate the Model\n",
    "y_pred = model.predict(X_test)\n",
    "print(\"Accuracy:\", accuracy_score(y_test, y_pred))\n",
    "print(\"Classification Report:\\n\", classification_report(y_test, y_pred))\n",
    "\n",
    "# Optional: Save the model if it performs well\n",
    "import joblib\n",
    "joblib.dump(model, 'expense_categorization_model.pkl')\n"
   ]
  },
  {
   "cell_type": "code",
   "execution_count": null,
   "id": "985258cd-17c7-4ccd-896d-06a01e3a9119",
   "metadata": {},
   "outputs": [],
   "source": []
  }
 ],
 "metadata": {
  "kernelspec": {
   "display_name": "Python 3 (ipykernel)",
   "language": "python",
   "name": "python3"
  },
  "language_info": {
   "codemirror_mode": {
    "name": "ipython",
    "version": 3
   },
   "file_extension": ".py",
   "mimetype": "text/x-python",
   "name": "python",
   "nbconvert_exporter": "python",
   "pygments_lexer": "ipython3",
   "version": "3.12.4"
  }
 },
 "nbformat": 4,
 "nbformat_minor": 5
}
